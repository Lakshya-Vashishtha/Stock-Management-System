{
 "cells": [
  {
   "cell_type": "code",
   "execution_count": 5,
   "id": "b181d452",
   "metadata": {},
   "outputs": [
    {
     "name": "stdout",
     "output_type": "stream",
     "text": [
      "\n",
      "Recommended Products for Next Month's Inventory:\n",
      "----------------------------------------------\n",
      "\n",
      "Smart Watch\n",
      "High Priority\n",
      "\n",
      "Laptop\n",
      "Low Priority\n",
      "\n",
      "Bluetooth Speaker\n",
      "Low Priority\n",
      "\n",
      "Washing Machine\n",
      "Low Priority\n"
     ]
    },
    {
     "name": "stderr",
     "output_type": "stream",
     "text": [
      "C:\\Users\\DELL\\AppData\\Local\\Temp\\ipykernel_1472\\3391585818.py:9: UserWarning: Parsing dates in %d-%m-%Y format when dayfirst=False (the default) was specified. Pass `dayfirst=True` or specify a format to silence this warning.\n",
      "  df['sale_date'] = pd.to_datetime(df['sale_date'])\n"
     ]
    }
   ],
   "source": [
    "import pandas as pd\n",
    "from sklearn.model_selection import train_test_split\n",
    "from sklearn.ensemble import RandomForestClassifier\n",
    "\n",
    "# Loading the dataset\n",
    "df = pd.read_csv(r'C:\\Users\\DELL\\Desktop\\electronics_shop_sales.csv')\n",
    "\n",
    "# Converting 'sale_date' to datetime format\n",
    "df['sale_date'] = pd.to_datetime(df['sale_date'])\n",
    "\n",
    "# Adding 'Month' and 'Year' columns to make aggregation easier\n",
    "df['Month'] = df['sale_date'].dt.month\n",
    "df['Year'] = df['sale_date'].dt.year\n",
    "\n",
    "# Aggregating sales by Product Name, Year, and Month\n",
    "df_monthly_sales = df.groupby(['product_name', 'Year', 'Month']).agg({'quantity_sold': 'sum'}).reset_index()\n",
    "\n",
    "# Creating a lag column for previous month's sales for each product\n",
    "df_monthly_sales['Previous_Month_Sales'] = df_monthly_sales.groupby('product_name')['quantity_sold'].shift(1)\n",
    "\n",
    "# Dropping rows where previous month's sales are missing (first month for each product)\n",
    "df_monthly_sales = df_monthly_sales.dropna(subset=['Previous_Month_Sales'])\n",
    "\n",
    "# Preparing features (X) and target (y)\n",
    "X = df_monthly_sales[['Previous_Month_Sales']]  # Feature: previous month's sales\n",
    "y = df_monthly_sales['product_name']  # Target: product name\n",
    "\n",
    "# Splitting data into training and testing sets\n",
    "X_train, X_test, y_train, y_test = train_test_split(X, y, test_size=0.2, random_state=42)\n",
    "\n",
    "# Training Random Forest model\n",
    "rf = RandomForestClassifier(n_estimators=100, max_depth=10, random_state=42)\n",
    "rf.fit(X_train, y_train)\n",
    "\n",
    "# Predicting on the test set\n",
    "y_pred = rf.predict(X_test)\n",
    "\n",
    "# Get unique predictions and count occurrences\n",
    "unique_preds, counts = pd.Series(y_pred).value_counts().reset_index().values.T\n",
    "\n",
    "# Function to determine priority based on predicted sales frequency\n",
    "def get_priority(count, max_count):\n",
    "    if count == max_count:\n",
    "        return \"High Priority\"\n",
    "    elif count >= max_count * 0.7:\n",
    "        return \"Medium Priority\"\n",
    "    else:\n",
    "        return \"Low Priority\"\n",
    "\n",
    "# Get the maximum count to determine relative priorities\n",
    "max_count = max(counts)\n",
    "\n",
    "# Format and print the predictions\n",
    "print(\"\\nRecommended Products for Next Month's Inventory:\")\n",
    "print(\"----------------------------------------------\")\n",
    "\n",
    "for product, count in zip(unique_preds, counts):\n",
    "    priority = get_priority(count, max_count)\n",
    "    print(f\"\\n{product}\")\n",
    "    print(priority)"
   ]
  },
  {
   "cell_type": "code",
   "execution_count": null,
   "id": "dde1a639",
   "metadata": {},
   "outputs": [],
   "source": []
  }
 ],
 "metadata": {
  "kernelspec": {
   "display_name": "venv",
   "language": "python",
   "name": "python3"
  },
  "language_info": {
   "codemirror_mode": {
    "name": "ipython",
    "version": 3
   },
   "file_extension": ".py",
   "mimetype": "text/x-python",
   "name": "python",
   "nbconvert_exporter": "python",
   "pygments_lexer": "ipython3",
   "version": "3.12.2"
  }
 },
 "nbformat": 4,
 "nbformat_minor": 5
}
